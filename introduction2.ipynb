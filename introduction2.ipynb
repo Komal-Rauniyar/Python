{
 "cells": [
  {
   "cell_type": "markdown",
   "metadata": {},
   "source": [
    "USER INPUT"
   ]
  },
  {
   "cell_type": "code",
   "execution_count": 4,
   "metadata": {},
   "outputs": [
    {
     "name": "stdout",
     "output_type": "stream",
     "text": [
      "KomalRauniyar\n"
     ]
    }
   ],
   "source": [
    "a=input(\"Enter your name: \")\n",
    "b=input(\"Enter any surname: \")\n",
    "print(a+b)"
   ]
  },
  {
   "cell_type": "markdown",
   "metadata": {},
   "source": [
    "TYPE CASTING"
   ]
  },
  {
   "cell_type": "code",
   "execution_count": 3,
   "metadata": {},
   "outputs": [
    {
     "name": "stdout",
     "output_type": "stream",
     "text": [
      "9\n"
     ]
    }
   ],
   "source": [
    "a=int(input(\"Enter any value1: \"))\n",
    "b=int(input(\"Enter any value2: \"))\n",
    "print(a+b)"
   ]
  },
  {
   "cell_type": "code",
   "execution_count": 2,
   "metadata": {},
   "outputs": [
    {
     "name": "stdout",
     "output_type": "stream",
     "text": [
      "4.0\n"
     ]
    }
   ],
   "source": [
    "a=float(input(\"Enter any value1: \"))\n",
    "b=float(input(\"Enter any value2: \"))\n",
    "print(a+b)"
   ]
  },
  {
   "cell_type": "code",
   "execution_count": 5,
   "metadata": {},
   "outputs": [
    {
     "name": "stdout",
     "output_type": "stream",
     "text": [
      "40\n"
     ]
    }
   ],
   "source": [
    "a=eval(input(\"Enter any value1: \"))\n",
    "b=eval(input(\"Enter any value2: \"))\n",
    "print(a+b)"
   ]
  },
  {
   "cell_type": "markdown",
   "metadata": {},
   "source": [
    "Conditional Statements:\n",
    "\n",
    "1.If statement"
   ]
  },
  {
   "cell_type": "code",
   "execution_count": 6,
   "metadata": {},
   "outputs": [
    {
     "name": "stdout",
     "output_type": "stream",
     "text": [
      "30 even number\n"
     ]
    }
   ],
   "source": [
    "a=int(input(\"Enter the value: \"))\n",
    "if a%2==0:\n",
    "    print(a,\"even number\")"
   ]
  },
  {
   "cell_type": "markdown",
   "metadata": {},
   "source": [
    "2.If Else statement"
   ]
  },
  {
   "cell_type": "code",
   "execution_count": 7,
   "metadata": {},
   "outputs": [
    {
     "name": "stdout",
     "output_type": "stream",
     "text": [
      "65 odd number\n"
     ]
    }
   ],
   "source": [
    "a=int(input(\"Enter the value: \"))\n",
    "if a%2==0:\n",
    "    print(a,\"even number\")\n",
    "else:\n",
    "    print(a,\"odd number\")"
   ]
  },
  {
   "cell_type": "markdown",
   "metadata": {},
   "source": [
    "3.If Elif Else statement"
   ]
  },
  {
   "cell_type": "code",
   "execution_count": 8,
   "metadata": {},
   "outputs": [
    {
     "name": "stdout",
     "output_type": "stream",
     "text": [
      "First division\n"
     ]
    }
   ],
   "source": [
    "per=int(input(\"Enter the value: \"))\n",
    "if per>=60:\n",
    "    print(\"First division\")\n",
    "elif per>=48:\n",
    "    print(\"second division\")\n",
    "elif per>=35:\n",
    "    print(\"third division\")\n",
    "else:\n",
    "    print(\"fail\")"
   ]
  },
  {
   "cell_type": "markdown",
   "metadata": {},
   "source": [
    "SIMPLE CALCULATOR"
   ]
  },
  {
   "cell_type": "code",
   "execution_count": 9,
   "metadata": {},
   "outputs": [
    {
     "name": "stdout",
     "output_type": "stream",
     "text": [
      "13\n"
     ]
    }
   ],
   "source": [
    "num1=int(input(\"Enter the value:1 \"))\n",
    "num2=int(input(\"Enter the value:2 \"))\n",
    "opr=input(\"Enter the opr...(+,-,*,/)\")\n",
    "if opr==\"+\":\n",
    "    print(num1+num2)\n",
    "elif opr==\"-\":\n",
    "    print(num1-num2)\n",
    "elif opr==\"*\":\n",
    "    print(num1*num2)\n",
    "elif opr==\"/\":\n",
    "    print(num1/num2)\n",
    "else:\n",
    "    print(\"invalid opr...\")"
   ]
  }
 ],
 "metadata": {
  "kernelspec": {
   "display_name": "Python 3",
   "language": "python",
   "name": "python3"
  },
  "language_info": {
   "codemirror_mode": {
    "name": "ipython",
    "version": 3
   },
   "file_extension": ".py",
   "mimetype": "text/x-python",
   "name": "python",
   "nbconvert_exporter": "python",
   "pygments_lexer": "ipython3",
   "version": "3.11.5"
  },
  "orig_nbformat": 4
 },
 "nbformat": 4,
 "nbformat_minor": 2
}
